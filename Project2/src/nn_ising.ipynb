{
 "cells": [
  {
   "cell_type": "code",
   "execution_count": 1,
   "metadata": {},
   "outputs": [],
   "source": [
    "from neuralnetwork import *\n",
    "import numpy as np\n",
    "import pandas as pd\n",
    "from sklearn.model_selection import train_test_split\n",
    "import pickle\n",
    "import os\n",
    "os.environ['KMP_DUPLICATE_LIB_OK'] = 'True'"
   ]
  },
  {
   "cell_type": "markdown",
   "metadata": {},
   "source": [
    "Download data and export to txt:"
   ]
  },
  {
   "cell_type": "markdown",
   "metadata": {},
   "source": [
    "    url_main = \"https://physics.bu.edu/~pankajm/ML-Review-Datasets/isingMC/\"\n",
    "    data_file_name = \"Ising2DFM_reSample_L40_T=All.pkl\"\n",
    "    label_file_name = \"Ising2DFM_reSample_L40_T=All_labels.pkl\"\n",
    "\n",
    "    labels = pickle.load(urlopen(url_main + label_file_name))\n",
    "\n",
    "    data = pickle.load(urlopen(url_main + data_file_name))\n",
    "    data = np.unpackbits(data).reshape(-1, 1600)\n",
    "    data = data.astype('int')\n",
    "\n",
    "    np.save(\"labels\", labels)\n",
    "    np.save(\"spin_data\", data)\n",
    "\n",
    "    del data, labels"
   ]
  },
  {
   "cell_type": "markdown",
   "metadata": {},
   "source": [
    "Load data"
   ]
  },
  {
   "cell_type": "code",
   "execution_count": 2,
   "metadata": {},
   "outputs": [],
   "source": [
    "X = np.load(\"spin_data.npy\")\n",
    "y = np.load(\"labels.npy\")\n",
    "\n",
    "train_to_test_ratio=0.5 # training samples\n",
    "\n",
    "# divide data into ordered, critical and disordered\n",
    "X_ordered=X[:70000,:]\n",
    "y_ordered=y[:70000]\n",
    "\n",
    "X_critical=X[70000:100000,:]\n",
    "y_critical=y[70000:100000]\n",
    "\n",
    "X_disordered=X[100000:,:]\n",
    "y_disordered=y[100000:]\n",
    "\n",
    "# define training and test data sets\n",
    "X=np.concatenate((X_ordered,X_disordered))\n",
    "y=np.concatenate((y_ordered,y_disordered))\n",
    "\n",
    "# pick random data points from ordered and disordered states \n",
    "# to create the training and test sets\n",
    "X_train,X_test,y_train,y_test=train_test_split(X,y,train_size=0.1,test_size=0.1)"
   ]
  },
  {
   "cell_type": "code",
   "execution_count": 7,
   "metadata": {},
   "outputs": [
    {
     "name": "stdout",
     "output_type": "stream",
     "text": [
      "99"
     ]
    }
   ],
   "source": [
    "tanh = Tanh()\n",
    "sig = Sigmoid()\n",
    "relu = Relu()\n",
    "crossEntropy = CrossEntropy()\n",
    "\n",
    "np.random.seed(40)\n",
    "\n",
    "nn = NeuralNetwork([1600, 100, 1], [tanh, sig], crossEntropy)\n",
    "\n",
    "nn.train(X_train, y_train, 0.0003, 0.001, 100, 100)"
   ]
  },
  {
   "cell_type": "code",
   "execution_count": null,
   "metadata": {},
   "outputs": [],
   "source": [
    "y_pred = np.round(nn.predict(X_critical)[:,0]).astype(int)\n",
    "print(y_pred[100:120])\n",
    "print(y_critical[100:120])\n",
    "\n",
    "success = np.sum(y_pred == y_critical)\n",
    "print(success/len(y_critical))"
   ]
  },
  {
   "cell_type": "code",
   "execution_count": null,
   "metadata": {},
   "outputs": [],
   "source": []
  }
 ],
 "metadata": {
  "kernelspec": {
   "display_name": "Python 3",
   "language": "python",
   "name": "python3"
  },
  "language_info": {
   "codemirror_mode": {
    "name": "ipython",
    "version": 3
   },
   "file_extension": ".py",
   "mimetype": "text/x-python",
   "name": "python",
   "nbconvert_exporter": "python",
   "pygments_lexer": "ipython3",
   "version": "3.6.8"
  }
 },
 "nbformat": 4,
 "nbformat_minor": 2
}
