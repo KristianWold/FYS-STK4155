{
 "cells": [
  {
   "cell_type": "code",
   "execution_count": 2,
   "metadata": {},
   "outputs": [],
   "source": [
    "from neuralnetwork import *\n",
    "import numpy as np\n",
    "import pandas as pd\n",
    "import pickle\n",
    "import os\n",
    "os.environ['KMP_DUPLICATE_LIB_OK'] = 'True'"
   ]
  },
  {
   "cell_type": "markdown",
   "metadata": {},
   "source": [
    "Download data and export to txt:"
   ]
  },
  {
   "cell_type": "code",
   "execution_count": 24,
   "metadata": {},
   "outputs": [],
   "source": [
    "url_main = \"https://physics.bu.edu/~pankajm/ML-Review-Datasets/isingMC/\"\n",
    "data_file_name = \"Ising2DFM_reSample_L40_T=All.pkl\"\n",
    "label_file_name = \"Ising2DFM_reSample_L40_T=All_labels.pkl\"\n",
    "\n",
    "labels = pickle.load(urlopen(url_main + label_file_name))\n",
    "\n",
    "data = pickle.load(urlopen(url_main + data_file_name))\n",
    "data = np.unpackbits(data).reshape(-1, 1600)\n",
    "data = data.astype('int')\n",
    "\n",
    "np.save(\"labels\", labels)\n",
    "np.save(\"spin_data\", data)"
   ]
  },
  {
   "cell_type": "markdown",
   "metadata": {},
   "source": [
    "Load data"
   ]
  },
  {
   "cell_type": "code",
   "execution_count": 3,
   "metadata": {},
   "outputs": [],
   "source": [
    "y = np.load(\"labels.npy\")\n",
    "X = np.load(\"spin_data.npy\")"
   ]
  },
  {
   "cell_type": "code",
   "execution_count": 14,
   "metadata": {},
   "outputs": [
    {
     "name": "stdout",
     "output_type": "stream",
     "text": [
      "99"
     ]
    }
   ],
   "source": [
    "tanh = Tanh()\n",
    "sig = Sigmoid()\n",
    "relu = Relu()\n",
    "crossEntropy = CrossEntropy()\n",
    "\n",
    "np.random.seed(42)\n",
    "\n",
    "nn = NeuralNetwork([1600, 400, 100, 25, 1], [sig, sig, sig, sig], crossEntropy)\n",
    "\n",
    "idx = np.arange(len(y))\n",
    "np.random.shuffle(idx)\n",
    "\n",
    "idx_train = idx[:2000]\n",
    "idx_test = idx[2000:2100]\n",
    "\n",
    "y_train = y[idx_train]\n",
    "X_train = X[idx_train]\n",
    "y_test = y[idx_test]\n",
    "X_test = X[idx_test]\n",
    "\n",
    "nn.train(X_train, y_train, 0.0003, 128, 300)\n"
   ]
  },
  {
   "cell_type": "code",
   "execution_count": 26,
   "metadata": {},
   "outputs": [
    {
     "name": "stdout",
     "output_type": "stream",
     "text": [
      "[1 0 0 0 0 1 0 0 1 0]\n",
      "[1 0 1 0 0 1 0 0 1 0]\n",
      "0.87\n"
     ]
    }
   ],
   "source": [
    "y_pred = np.round(nn.predict(X_test)[:,0]).astype(int)\n",
    "print(y_pred[:10])\n",
    "print(y_test[:10])\n",
    "\n",
    "success = np.sum(y_pred == y_test)\n",
    "print(success/len(y_test))"
   ]
  },
  {
   "cell_type": "code",
   "execution_count": null,
   "metadata": {},
   "outputs": [],
   "source": []
  }
 ],
 "metadata": {
  "kernelspec": {
   "display_name": "Python 3",
   "language": "python",
   "name": "python3"
  },
  "language_info": {
   "codemirror_mode": {
    "name": "ipython",
    "version": 3
   },
   "file_extension": ".py",
   "mimetype": "text/x-python",
   "name": "python",
   "nbconvert_exporter": "python",
   "pygments_lexer": "ipython3",
   "version": "3.6.8"
  }
 },
 "nbformat": 4,
 "nbformat_minor": 2
}
